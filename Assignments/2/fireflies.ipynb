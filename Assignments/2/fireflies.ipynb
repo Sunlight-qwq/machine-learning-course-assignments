{
 "cells": [
  {
   "cell_type": "code",
   "execution_count": 1,
   "metadata": {},
   "outputs": [],
   "source": [
    "import numpy as np\n",
    "import matplotlib.pyplot as plt\n",
    "\n",
    "FIRING_SPAN = 25\n",
    "RESTING_SPAN = 75\n",
    "WEIGHT = 0.2\n",
    "NUMBERS = 100\n",
    "K = 5\n",
    "MAX_NUM_LOOPING = 120"
   ]
  },
  {
   "cell_type": "code",
   "execution_count": 2,
   "metadata": {},
   "outputs": [],
   "source": [
    "class Fireflies:\n",
    "\n",
    "    def __init__(self, num_fireflies, rectangle_size=(1, 1), positions=None):\n",
    "        \"\"\"\n",
    "        A class to store all the fireflies.\n",
    "        \"\"\"\n",
    "        self.size = np.array(rectangle_size)\n",
    "        self.fireflies = []\n",
    "        # decide which is fired and which is extinguished.\n",
    "        statuses = np.random.randint(0, 2, size=num_fireflies)\n",
    "        init_span_ratios = np.random.rand(num_fireflies)\n",
    "        # positions of the fireflies.\n",
    "        positions = positions or np.random.rand(num_fireflies, 2) * np.array(rectangle_size)\n",
    "        for i in range(num_fireflies):\n",
    "            status = statuses[i]\n",
    "            position = positions[i]\n",
    "            init_lasting_span = init_span_ratios[i] * FIRING_SPAN \\\n",
    "                if status else init_span_ratios[i] * RESTING_SPAN\n",
    "            # firefly = Firefly(status, \n",
    "            #     position=position @ self.size,\n",
    "            #     init_lasting_span=init_lasting_span,\n",
    "            #     group=self,\n",
    "            #     firefly_id=i\n",
    "            # )\n",
    "            # self.fireflies.append(firefly)\n",
    "        # adjacency matrix storing all the distance.\n",
    "        self.adjacency = np.zeros((num_fireflies, num_fireflies), dtype=np.int8)\n",
    "        for i in range(num_fireflies):\n",
    "            position = positions[i]\n",
    "            # Sort all the nodes by distance.\n",
    "            neighbors_by_dis = np.argsort([np.linalg.norm(position - positions[j]) \n",
    "            for j in range(num_fireflies)])\n",
    "            # Pick out the k-nearest nodes, with itself excluded.\n",
    "            kneighbors = neighbors_by_dis[1:K+1]\n",
    "            # Update the adjacency matrix\n",
    "            self.adjacency[kneighbors] = 1"
   ]
  },
  {
   "cell_type": "code",
   "execution_count": 3,
   "metadata": {},
   "outputs": [],
   "source": [
    "fireflies = Fireflies(10)"
   ]
  },
  {
   "cell_type": "code",
   "execution_count": 4,
   "metadata": {},
   "outputs": [
    {
     "data": {
      "text/plain": [
       "array([[1, 1, 1, 1, 1, 1, 1, 1, 1, 1],\n",
       "       [1, 1, 1, 1, 1, 1, 1, 1, 1, 1],\n",
       "       [1, 1, 1, 1, 1, 1, 1, 1, 1, 1],\n",
       "       [1, 1, 1, 1, 1, 1, 1, 1, 1, 1],\n",
       "       [1, 1, 1, 1, 1, 1, 1, 1, 1, 1],\n",
       "       [1, 1, 1, 1, 1, 1, 1, 1, 1, 1],\n",
       "       [1, 1, 1, 1, 1, 1, 1, 1, 1, 1],\n",
       "       [1, 1, 1, 1, 1, 1, 1, 1, 1, 1],\n",
       "       [1, 1, 1, 1, 1, 1, 1, 1, 1, 1],\n",
       "       [1, 1, 1, 1, 1, 1, 1, 1, 1, 1]], dtype=int8)"
      ]
     },
     "execution_count": 4,
     "metadata": {},
     "output_type": "execute_result"
    }
   ],
   "source": [
    "fireflies.adjacency"
   ]
  }
 ],
 "metadata": {
  "interpreter": {
   "hash": "552b560d86b437bb7daaaaa7a6e4f2f1d19845d713f6aab83779eadaf7118d43"
  },
  "kernelspec": {
   "display_name": "Python 3.9.12 ('ml')",
   "language": "python",
   "name": "python3"
  },
  "language_info": {
   "codemirror_mode": {
    "name": "ipython",
    "version": 3
   },
   "file_extension": ".py",
   "mimetype": "text/x-python",
   "name": "python",
   "nbconvert_exporter": "python",
   "pygments_lexer": "ipython3",
   "version": "3.9.12"
  },
  "orig_nbformat": 4
 },
 "nbformat": 4,
 "nbformat_minor": 2
}
