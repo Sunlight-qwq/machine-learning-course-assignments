{
 "cells": [
  {
   "cell_type": "code",
   "execution_count": 165,
   "metadata": {},
   "outputs": [],
   "source": [
    "import numpy as np\n",
    "import pandas as pd\n",
    "import matplotlib.pyplot as plt"
   ]
  },
  {
   "cell_type": "code",
   "execution_count": 166,
   "metadata": {},
   "outputs": [],
   "source": [
    "dataset = pd.read_csv('LDA_data.csv', index_col=0).values"
   ]
  },
  {
   "cell_type": "markdown",
   "metadata": {},
   "source": [
    "分出两个类别"
   ]
  },
  {
   "cell_type": "code",
   "execution_count": 167,
   "metadata": {},
   "outputs": [],
   "source": [
    "c1 = []\n",
    "c2 = []\n",
    "for row in dataset:\n",
    "    if row[-1] == 1:\n",
    "        c1.append(row[:-1])\n",
    "    else:\n",
    "        c2.append(row[:-1])\n",
    "        \n",
    "c1, c2 = np.array(c1), np.array(c2)"
   ]
  },
  {
   "cell_type": "code",
   "execution_count": 168,
   "metadata": {},
   "outputs": [
    {
     "data": {
      "text/plain": [
       "<matplotlib.collections.PathCollection at 0x21352279d90>"
      ]
     },
     "execution_count": 168,
     "metadata": {},
     "output_type": "execute_result"
    },
    {
     "data": {
      "image/png": "[encoded data removed]",
      "text/plain": [
       "<Figure size 432x288 with 1 Axes>"
      ]
     },
     "metadata": {
      "needs_background": "light"
     },
     "output_type": "display_data"
    }
   ],
   "source": [
    "plt.scatter(c1.T[0], c1.T[1], c='r')\n",
    "plt.scatter(c2.T[0], c2.T[1], c='b')"
   ]
  },
  {
   "cell_type": "markdown",
   "metadata": {},
   "source": [
    "## LDA 的解\n",
    "\n",
    "设 $\\mu_1, \\mu_2$ 为两个类别的均值，$\\Sigma_1, \\Sigma_2$ 为两个类别的协方差矩阵，则 LDA 的解为：\n",
    "\n",
    "$$\n",
    "w = (\\Sigma_1 + \\Sigma_2)^{-1} (\\mu_1 - \\mu_2)\n",
    "$$"
   ]
  },
  {
   "cell_type": "code",
   "execution_count": 169,
   "metadata": {},
   "outputs": [],
   "source": [
    "mu1, mu2 = np.mean(c1, axis=0), np.mean(c2, axis=0)\n",
    "S_1, S_2 = np.cov(c1.T), np.cov(c2.T)"
   ]
  },
  {
   "cell_type": "code",
   "execution_count": 170,
   "metadata": {},
   "outputs": [
    {
     "data": {
      "text/plain": [
       "array([[-0.92064833],\n",
       "       [ 0.39039295]])"
      ]
     },
     "execution_count": 170,
     "metadata": {},
     "output_type": "execute_result"
    }
   ],
   "source": [
    "w = np.linalg.inv(S_1 + S_2) @ (mu1 - mu2)\n",
    "w = np.reshape(w / np.linalg.norm(w), (-1, 1))\n",
    "w"
   ]
  },
  {
   "cell_type": "code",
   "execution_count": 171,
   "metadata": {},
   "outputs": [
    {
     "data": {
      "text/plain": [
       "[<matplotlib.lines.Line2D at 0x213522ecb20>]"
      ]
     },
     "execution_count": 171,
     "metadata": {},
     "output_type": "execute_result"
    },
    {
     "data": {
      "image/png": "[encoded data removed]",
      "text/plain": [
       "<Figure size 432x288 with 1 Axes>"
      ]
     },
     "metadata": {
      "needs_background": "light"
     },
     "output_type": "display_data"
    }
   ],
   "source": [
    "plt.scatter(c1.T[0], c1.T[1], c='r')\n",
    "plt.scatter(c2.T[0], c2.T[1], c='b')\n",
    "# Display the axis of the projection\n",
    "prj = np.concatenate([np.zeros_like(w), w], axis=1)\n",
    "plt.plot(prj[0], prj[1])"
   ]
  },
  {
   "cell_type": "code",
   "execution_count": 172,
   "metadata": {},
   "outputs": [],
   "source": [
    "new_c1 = c1 @ w; new_c2 = c2 @ w"
   ]
  },
  {
   "cell_type": "code",
   "execution_count": 173,
   "metadata": {},
   "outputs": [
    {
     "data": {
      "text/plain": [
       "(array([[0.45668571],\n",
       "        [2.51771585],\n",
       "        [1.33139513],\n",
       "        [2.08200039],\n",
       "        [0.8849468 ],\n",
       "        [1.35170084],\n",
       "        [1.13480924],\n",
       "        [0.22133318],\n",
       "        [0.96388312],\n",
       "        [1.52604755]]),\n",
       " array([[-0.36653828],\n",
       "        [ 0.58334954],\n",
       "        [ 1.11128642],\n",
       "        [ 0.13725006],\n",
       "        [-0.54879061],\n",
       "        [ 0.19658858],\n",
       "        [ 0.01731124],\n",
       "        [-0.33536361],\n",
       "        [-0.80558544],\n",
       "        [ 0.11109446]]))"
      ]
     },
     "execution_count": 173,
     "metadata": {},
     "output_type": "execute_result"
    }
   ],
   "source": [
    "new_c1, new_c2"
   ]
  },
  {
   "cell_type": "code",
   "execution_count": 174,
   "metadata": {},
   "outputs": [
    {
     "data": {
      "text/plain": [
       "<matplotlib.collections.PathCollection at 0x21352351910>"
      ]
     },
     "execution_count": 174,
     "metadata": {},
     "output_type": "execute_result"
    },
    {
     "data": {
      "image/png": "[encoded data removed]",
      "text/plain": [
       "<Figure size 432x288 with 1 Axes>"
      ]
     },
     "metadata": {
      "needs_background": "light"
     },
     "output_type": "display_data"
    }
   ],
   "source": [
    "plt.scatter(new_c1, np.zeros_like(new_c1), c='r')\n",
    "plt.scatter(new_c2, np.zeros_like(new_c2), c='b')"
   ]
  },
  {
   "cell_type": "code",
   "execution_count": null,
   "metadata": {},
   "outputs": [],
   "source": []
  }
 ],
 "metadata": {
  "interpreter": {
   "hash": "89ea846f7ca9abf5473e9155c28ffb70eaa7ddb38e5e8c5e29b5f3a4e8ba9e85"
  },
  "kernelspec": {
   "display_name": "Python 3.9.13 ('ml')",
   "language": "python",
   "name": "python3"
  },
  "language_info": {
   "codemirror_mode": {
    "name": "ipython",
    "version": 3
   },
   "file_extension": ".py",
   "mimetype": "text/x-python",
   "name": "python",
   "nbconvert_exporter": "python",
   "pygments_lexer": "ipython3",
   "version": "3.9.13"
  },
  "orig_nbformat": 4
 },
 "nbformat": 4,
 "nbformat_minor": 2
}
