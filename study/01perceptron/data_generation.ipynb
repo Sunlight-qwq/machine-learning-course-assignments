{
 "cells": [
  {
   "cell_type": "markdown",
   "metadata": {},
   "source": [
    "# 数据产生函数\n",
    "\n",
    "产生一个线性可分的测试数据集"
   ]
  },
  {
   "cell_type": "code",
   "execution_count": 97,
   "metadata": {},
   "outputs": [],
   "source": [
    "import numpy as np\n",
    "import pandas as pd\n",
    "import matplotlib.pyplot as plt"
   ]
  },
  {
   "cell_type": "code",
   "execution_count": 98,
   "metadata": {},
   "outputs": [],
   "source": [
    "x_dim = 2\n",
    "use_bias = True\n",
    "num = 20"
   ]
  },
  {
   "cell_type": "markdown",
   "metadata": {},
   "source": [
    "随机产生权重与偏置"
   ]
  },
  {
   "cell_type": "code",
   "execution_count": 99,
   "metadata": {},
   "outputs": [],
   "source": [
    "weight = np.random.normal(size=x_dim)\n",
    "weight = weight / np.linalg.norm(weight) # Unitize the weight\n",
    "\n",
    "if use_bias:\n",
    "    bias = np.random.normal()\n",
    "else:\n",
    "    bias = 0"
   ]
  },
  {
   "cell_type": "markdown",
   "metadata": {},
   "source": [
    "随机产生样本，并对样本进行分类\n",
    "\n",
    "设置中心点于 $- b \\vec{w}$，利于产生均匀的数据"
   ]
  },
  {
   "cell_type": "code",
   "execution_count": 100,
   "metadata": {},
   "outputs": [],
   "source": [
    "x = np.random.normal(loc=-bias * weight, scale=2, size=(num, x_dim))"
   ]
  },
  {
   "cell_type": "code",
   "execution_count": 101,
   "metadata": {},
   "outputs": [],
   "source": [
    "y = np.where(weight @ x.T + bias>=0, 1, -1)"
   ]
  },
  {
   "cell_type": "code",
   "execution_count": 102,
   "metadata": {},
   "outputs": [],
   "source": [
    "dataset = np.concatenate([x, y.reshape(-1, 1)], axis=1)"
   ]
  },
  {
   "cell_type": "code",
   "execution_count": 103,
   "metadata": {},
   "outputs": [
    {
     "data": {
      "text/plain": [
       "[]"
      ]
     },
     "execution_count": 103,
     "metadata": {},
     "output_type": "execute_result"
    },
    {
     "data": {
      "image/png": "[encoded data removed]",
      "text/plain": [
       "<Figure size 432x288 with 1 Axes>"
      ]
     },
     "metadata": {
      "needs_background": "light"
     },
     "output_type": "display_data"
    }
   ],
   "source": [
    "plt.scatter(x.T[0], x.T[1], c=y)\n",
    "plt.plot()"
   ]
  },
  {
   "cell_type": "code",
   "execution_count": 104,
   "metadata": {},
   "outputs": [
    {
     "data": {
      "text/plain": [
       "array([[-0.34266234,  1.38619895,  1.        ],\n",
       "       [-3.3434929 , -0.26889065, -1.        ],\n",
       "       [-1.65537215, -0.75954772, -1.        ],\n",
       "       [-1.4535636 , -3.69046525, -1.        ],\n",
       "       [-0.43183665,  3.83306878,  1.        ],\n",
       "       [-1.96266518, -0.4355271 , -1.        ],\n",
       "       [ 0.46440881,  1.94933592,  1.        ],\n",
       "       [-3.85036849, -3.49659687, -1.        ],\n",
       "       [-0.03681582,  0.99776263,  1.        ],\n",
       "       [-0.28978913, -2.7543635 , -1.        ],\n",
       "       [-3.33136732,  3.94436572, -1.        ],\n",
       "       [-0.33054221, -4.08831488, -1.        ],\n",
       "       [-5.43472254,  1.47525701, -1.        ],\n",
       "       [-1.76441478,  0.58690427, -1.        ],\n",
       "       [ 1.7244526 ,  4.45281461,  1.        ],\n",
       "       [-0.4289672 ,  0.90459206,  1.        ],\n",
       "       [ 0.20641005,  1.045383  ,  1.        ],\n",
       "       [-4.13378012,  0.75694348, -1.        ],\n",
       "       [-2.14088479, -3.08863949, -1.        ],\n",
       "       [ 0.10060088, -0.85734877,  1.        ]])"
      ]
     },
     "execution_count": 104,
     "metadata": {},
     "output_type": "execute_result"
    }
   ],
   "source": [
    "dataset"
   ]
  },
  {
   "cell_type": "code",
   "execution_count": 105,
   "metadata": {},
   "outputs": [
    {
     "data": {
      "text/html": [
       "<div>\n",
       "<style scoped>\n",
       "    .dataframe tbody tr th:only-of-type {\n",
       "        vertical-align: middle;\n",
       "    }\n",
       "\n",
       "    .dataframe tbody tr th {\n",
       "        vertical-align: top;\n",
       "    }\n",
       "\n",
       "    .dataframe thead th {\n",
       "        text-align: right;\n",
       "    }\n",
       "</style>\n",
       "<table border=\"1\" class=\"dataframe\">\n",
       "  <thead>\n",
       "    <tr style=\"text-align: right;\">\n",
       "      <th></th>\n",
       "      <th>x1</th>\n",
       "      <th>x2</th>\n",
       "      <th>y</th>\n",
       "    </tr>\n",
       "  </thead>\n",
       "  <tbody>\n",
       "    <tr>\n",
       "      <th>0</th>\n",
       "      <td>-0.342662</td>\n",
       "      <td>1.386199</td>\n",
       "      <td>1.0</td>\n",
       "    </tr>\n",
       "    <tr>\n",
       "      <th>1</th>\n",
       "      <td>-3.343493</td>\n",
       "      <td>-0.268891</td>\n",
       "      <td>-1.0</td>\n",
       "    </tr>\n",
       "    <tr>\n",
       "      <th>2</th>\n",
       "      <td>-1.655372</td>\n",
       "      <td>-0.759548</td>\n",
       "      <td>-1.0</td>\n",
       "    </tr>\n",
       "    <tr>\n",
       "      <th>3</th>\n",
       "      <td>-1.453564</td>\n",
       "      <td>-3.690465</td>\n",
       "      <td>-1.0</td>\n",
       "    </tr>\n",
       "    <tr>\n",
       "      <th>4</th>\n",
       "      <td>-0.431837</td>\n",
       "      <td>3.833069</td>\n",
       "      <td>1.0</td>\n",
       "    </tr>\n",
       "    <tr>\n",
       "      <th>5</th>\n",
       "      <td>-1.962665</td>\n",
       "      <td>-0.435527</td>\n",
       "      <td>-1.0</td>\n",
       "    </tr>\n",
       "    <tr>\n",
       "      <th>6</th>\n",
       "      <td>0.464409</td>\n",
       "      <td>1.949336</td>\n",
       "      <td>1.0</td>\n",
       "    </tr>\n",
       "    <tr>\n",
       "      <th>7</th>\n",
       "      <td>-3.850368</td>\n",
       "      <td>-3.496597</td>\n",
       "      <td>-1.0</td>\n",
       "    </tr>\n",
       "    <tr>\n",
       "      <th>8</th>\n",
       "      <td>-0.036816</td>\n",
       "      <td>0.997763</td>\n",
       "      <td>1.0</td>\n",
       "    </tr>\n",
       "    <tr>\n",
       "      <th>9</th>\n",
       "      <td>-0.289789</td>\n",
       "      <td>-2.754364</td>\n",
       "      <td>-1.0</td>\n",
       "    </tr>\n",
       "    <tr>\n",
       "      <th>10</th>\n",
       "      <td>-3.331367</td>\n",
       "      <td>3.944366</td>\n",
       "      <td>-1.0</td>\n",
       "    </tr>\n",
       "    <tr>\n",
       "      <th>11</th>\n",
       "      <td>-0.330542</td>\n",
       "      <td>-4.088315</td>\n",
       "      <td>-1.0</td>\n",
       "    </tr>\n",
       "    <tr>\n",
       "      <th>12</th>\n",
       "      <td>-5.434723</td>\n",
       "      <td>1.475257</td>\n",
       "      <td>-1.0</td>\n",
       "    </tr>\n",
       "    <tr>\n",
       "      <th>13</th>\n",
       "      <td>-1.764415</td>\n",
       "      <td>0.586904</td>\n",
       "      <td>-1.0</td>\n",
       "    </tr>\n",
       "    <tr>\n",
       "      <th>14</th>\n",
       "      <td>1.724453</td>\n",
       "      <td>4.452815</td>\n",
       "      <td>1.0</td>\n",
       "    </tr>\n",
       "    <tr>\n",
       "      <th>15</th>\n",
       "      <td>-0.428967</td>\n",
       "      <td>0.904592</td>\n",
       "      <td>1.0</td>\n",
       "    </tr>\n",
       "    <tr>\n",
       "      <th>16</th>\n",
       "      <td>0.206410</td>\n",
       "      <td>1.045383</td>\n",
       "      <td>1.0</td>\n",
       "    </tr>\n",
       "    <tr>\n",
       "      <th>17</th>\n",
       "      <td>-4.133780</td>\n",
       "      <td>0.756943</td>\n",
       "      <td>-1.0</td>\n",
       "    </tr>\n",
       "    <tr>\n",
       "      <th>18</th>\n",
       "      <td>-2.140885</td>\n",
       "      <td>-3.088639</td>\n",
       "      <td>-1.0</td>\n",
       "    </tr>\n",
       "    <tr>\n",
       "      <th>19</th>\n",
       "      <td>0.100601</td>\n",
       "      <td>-0.857349</td>\n",
       "      <td>1.0</td>\n",
       "    </tr>\n",
       "  </tbody>\n",
       "</table>\n",
       "</div>"
      ],
      "text/plain": [
       "          x1        x2    y\n",
       "0  -0.342662  1.386199  1.0\n",
       "1  -3.343493 -0.268891 -1.0\n",
       "2  -1.655372 -0.759548 -1.0\n",
       "3  -1.453564 -3.690465 -1.0\n",
       "4  -0.431837  3.833069  1.0\n",
       "5  -1.962665 -0.435527 -1.0\n",
       "6   0.464409  1.949336  1.0\n",
       "7  -3.850368 -3.496597 -1.0\n",
       "8  -0.036816  0.997763  1.0\n",
       "9  -0.289789 -2.754364 -1.0\n",
       "10 -3.331367  3.944366 -1.0\n",
       "11 -0.330542 -4.088315 -1.0\n",
       "12 -5.434723  1.475257 -1.0\n",
       "13 -1.764415  0.586904 -1.0\n",
       "14  1.724453  4.452815  1.0\n",
       "15 -0.428967  0.904592  1.0\n",
       "16  0.206410  1.045383  1.0\n",
       "17 -4.133780  0.756943 -1.0\n",
       "18 -2.140885 -3.088639 -1.0\n",
       "19  0.100601 -0.857349  1.0"
      ]
     },
     "execution_count": 105,
     "metadata": {},
     "output_type": "execute_result"
    }
   ],
   "source": [
    "columns = ['x' + str(i + 1) for i in range(x_dim)] + ['y']\n",
    "df = pd.DataFrame(dataset, columns=columns)\n",
    "df"
   ]
  },
  {
   "cell_type": "code",
   "execution_count": 106,
   "metadata": {},
   "outputs": [],
   "source": [
    "df.to_csv('linear_separable_dataset.csv')"
   ]
  }
 ],
 "metadata": {
  "interpreter": {
   "hash": "89ea846f7ca9abf5473e9155c28ffb70eaa7ddb38e5e8c5e29b5f3a4e8ba9e85"
  },
  "kernelspec": {
   "display_name": "Python 3.9.13 ('ml')",
   "language": "python",
   "name": "python3"
  },
  "language_info": {
   "codemirror_mode": {
    "name": "ipython",
    "version": 3
   },
   "file_extension": ".py",
   "mimetype": "text/x-python",
   "name": "python",
   "nbconvert_exporter": "python",
   "pygments_lexer": "ipython3",
   "version": "3.9.13"
  },
  "orig_nbformat": 4
 },
 "nbformat": 4,
 "nbformat_minor": 2
}
