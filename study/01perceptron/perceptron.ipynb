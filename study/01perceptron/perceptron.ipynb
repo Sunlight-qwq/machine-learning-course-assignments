{
 "cells": [
  {
   "cell_type": "code",
   "execution_count": 155,
   "metadata": {},
   "outputs": [],
   "source": [
    "import numpy as np\n",
    "import pandas as pd\n",
    "import matplotlib.pyplot as plt"
   ]
  },
  {
   "cell_type": "code",
   "execution_count": 156,
   "metadata": {},
   "outputs": [],
   "source": [
    "dataset = pd.read_csv('linear_separable_dataset.csv', index_col=0).values\n",
    "data_x, data_y = dataset[:, :-1], dataset[:, -1]\n",
    "x_dim = data_x.shape[1]"
   ]
  },
  {
   "cell_type": "code",
   "execution_count": 157,
   "metadata": {},
   "outputs": [
    {
     "data": {
      "text/plain": [
       "(array([[-0.34266234,  1.38619895],\n",
       "        [-3.3434929 , -0.26889065],\n",
       "        [-1.65537215, -0.75954772],\n",
       "        [-1.4535636 , -3.69046525],\n",
       "        [-0.43183665,  3.83306878],\n",
       "        [-1.96266518, -0.4355271 ],\n",
       "        [ 0.46440881,  1.94933592],\n",
       "        [-3.85036849, -3.49659687],\n",
       "        [-0.03681582,  0.99776263],\n",
       "        [-0.28978913, -2.7543635 ],\n",
       "        [-3.33136732,  3.94436572],\n",
       "        [-0.33054221, -4.08831488],\n",
       "        [-5.43472254,  1.47525701],\n",
       "        [-1.76441478,  0.58690427],\n",
       "        [ 1.7244526 ,  4.45281461],\n",
       "        [-0.4289672 ,  0.90459206],\n",
       "        [ 0.20641005,  1.045383  ],\n",
       "        [-4.13378012,  0.75694348],\n",
       "        [-2.14088479, -3.08863949],\n",
       "        [ 0.10060088, -0.85734877]]),\n",
       " array([ 1., -1., -1., -1.,  1., -1.,  1., -1.,  1., -1., -1., -1., -1.,\n",
       "        -1.,  1.,  1.,  1., -1., -1.,  1.]))"
      ]
     },
     "execution_count": 157,
     "metadata": {},
     "output_type": "execute_result"
    }
   ],
   "source": [
    "data_x, data_y"
   ]
  },
  {
   "cell_type": "code",
   "execution_count": 158,
   "metadata": {},
   "outputs": [],
   "source": [
    "weight = np.random.normal(size=x_dim)\n",
    "bias = 0\n",
    "lr = 0.1"
   ]
  },
  {
   "cell_type": "markdown",
   "metadata": {},
   "source": [
    "## 计算误分类点，梯度下降"
   ]
  },
  {
   "cell_type": "code",
   "execution_count": 159,
   "metadata": {},
   "outputs": [
    {
     "name": "stdout",
     "output_type": "stream",
     "text": [
      "[-3.3434929  -0.26889065] -1.0\n",
      "[-1.65537215 -0.75954772] -1.0\n",
      "[-1.4535636  -3.69046525] -1.0\n",
      "[-1.96266518 -0.4355271 ] -1.0\n",
      "[-3.33136732  3.94436572] -1.0\n",
      "[-0.4289672   0.90459206] 1.0\n",
      "[0.20641005 1.045383  ] 1.0\n",
      "[ 0.10060088 -0.85734877] 1.0\n",
      "[-0.34266234  1.38619895] 1.0\n",
      "[-3.33136732  3.94436572] -1.0\n",
      "[-0.33054221 -4.08831488] -1.0\n",
      "[-0.4289672   0.90459206] 1.0\n",
      "[ 0.10060088 -0.85734877] 1.0\n",
      "[-0.4289672   0.90459206] 1.0\n",
      "[ 0.10060088 -0.85734877] 1.0\n",
      "[ 0.10060088 -0.85734877] 1.0\n"
     ]
    }
   ],
   "source": [
    "flag = True\n",
    "while flag:\n",
    "    flag = False\n",
    "    for x, y in zip(data_x, data_y):\n",
    "        # List all the misclassification point.\n",
    "        if y * (weight @ x + bias) < 0:\n",
    "            weight += lr * y * x\n",
    "            bias += lr * y\n",
    "            flag = True\n",
    "        "
   ]
  },
  {
   "cell_type": "code",
   "execution_count": 160,
   "metadata": {},
   "outputs": [
    {
     "data": {
      "text/plain": [
       "(array([0.54153352, 0.21522699]),\n",
       " 0.19999999999999998,\n",
       " 0.06995415709821354,\n",
       " 1.0,\n",
       " -1.1823737935049534,\n",
       " -0.857348767971845)"
      ]
     },
     "execution_count": 160,
     "metadata": {},
     "output_type": "execute_result"
    }
   ],
   "source": [
    "weight, bias, weight @ x + bias, y, -weight[0] / weight[1] * x[0] - bias / weight[1], x[1]"
   ]
  },
  {
   "cell_type": "code",
   "execution_count": 162,
   "metadata": {},
   "outputs": [
    {
     "data": {
      "text/plain": [
       "[<matplotlib.lines.Line2D at 0x217632cdac0>]"
      ]
     },
     "execution_count": 162,
     "metadata": {},
     "output_type": "execute_result"
    },
    {
     "data": {
      "image/png": "[encoded data removed]",
      "text/plain": [
       "<Figure size 432x288 with 1 Axes>"
      ]
     },
     "metadata": {
      "needs_background": "light"
     },
     "output_type": "display_data"
    }
   ],
   "source": [
    "line_x = [-2, 2]\n",
    "line_y = [- weight[0] / weight[1] * x - bias / weight[1] for x in line_x]\n",
    "plt.scatter(data_x.T[0], data_x.T[1], c=data_y)\n",
    "plt.plot(line_x, line_y)"
   ]
  },
  {
   "cell_type": "code",
   "execution_count": null,
   "metadata": {},
   "outputs": [],
   "source": []
  }
 ],
 "metadata": {
  "interpreter": {
   "hash": "89ea846f7ca9abf5473e9155c28ffb70eaa7ddb38e5e8c5e29b5f3a4e8ba9e85"
  },
  "kernelspec": {
   "display_name": "Python 3.9.13 ('ml')",
   "language": "python",
   "name": "python3"
  },
  "language_info": {
   "codemirror_mode": {
    "name": "ipython",
    "version": 3
   },
   "file_extension": ".py",
   "mimetype": "text/x-python",
   "name": "python",
   "nbconvert_exporter": "python",
   "pygments_lexer": "ipython3",
   "version": "3.9.13"
  },
  "orig_nbformat": 4
 },
 "nbformat": 4,
 "nbformat_minor": 2
}
